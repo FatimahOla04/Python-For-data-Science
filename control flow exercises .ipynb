{
 "cells": [
  {
   "cell_type": "markdown",
   "id": "159317ee",
   "metadata": {},
   "source": [
    "# if statement\n",
    "1. Write a Python if statement that checks if a variable `age` is greater than or equal to 18. If it is, print \"You are an adult\", otherwise, print \"You are a minor\".\n",
    "\n",
    "2. Create a Python if-else statement that checks if a number `num` is positive, negative, or zero. If `num` is positive, print \"Positive number\", if it is negative, print \"Negative number\", and if it is zero, print \"Zero\".\n",
    "\n",
    "3. Write a Python program that asks the user to enter their exam score. then print the corresponding grade according to the following criteria:\n",
    "   - 90 or above: \"A\"\n",
    "   - 80 to 89: \"B\"\n",
    "   - 70 to 79: \"C\"\n",
    "   - 60 to 69: \"D\"\n",
    "   - Below 60: \"F\"\n",
    "\n",
    "4. Create a Python program that checks if a given year `year` is a leap year. If `year` is divisible by 4 and not divisible by 100, or it is divisible by 400, then it is a leap year. Print \"Leap year\" if it is, otherwise, print \"Not a leap year\".\n",
    "\n",
    "5. Write a Python function called `maximum` that takes three arguments: `a`, `b`, and `c`. The function should use if statements to return the maximum value among the three.\n",
    "\n"
   ]
  },
  {
   "cell_type": "code",
   "execution_count": 3,
   "id": "95d78279",
   "metadata": {},
   "outputs": [
    {
     "name": "stdout",
     "output_type": "stream",
     "text": [
      "18\n",
      "You are an adult\n"
     ]
    }
   ],
   "source": [
    "age = int(input())\n",
    "if age>=18:\n",
    "    print(\"You are an adult\")\n",
    "else:\n",
    "    print(\"You are a minor\")"
   ]
  },
  {
   "cell_type": "code",
   "execution_count": 9,
   "id": "dacceac7",
   "metadata": {},
   "outputs": [
    {
     "name": "stdout",
     "output_type": "stream",
     "text": [
      "-1\n",
      "negative\n"
     ]
    }
   ],
   "source": [
    "num1 = int(input())\n",
    "if num1>=1:\n",
    "    print(\"positive\")\n",
    "elif num1<0:\n",
    "    print(\"negative\")\n",
    "else:\n",
    "    print(\"zero\")"
   ]
  },
  {
   "cell_type": "code",
   "execution_count": 10,
   "id": "9f955046",
   "metadata": {},
   "outputs": [
    {
     "name": "stdout",
     "output_type": "stream",
     "text": [
      "50\n",
      "Grade F\n"
     ]
    }
   ],
   "source": [
    "Score = int(input())\n",
    "if Score>=90:\n",
    "    print(\"Grade A\")\n",
    "elif Score>=80:\n",
    "    print(\"Grade B\")\n",
    "elif Score>=70:\n",
    "    print(\"Grade C\")\n",
    "elif Score>=60:\n",
    "    print(\"Grade D\")\n",
    "else:\n",
    "    print(\"Grade F\")"
   ]
  },
  {
   "cell_type": "code",
   "execution_count": 16,
   "id": "a257dbe4",
   "metadata": {},
   "outputs": [
    {
     "name": "stdout",
     "output_type": "stream",
     "text": [
      "2024\n",
      "leap year\n"
     ]
    }
   ],
   "source": [
    "year = int(input())  \n",
    "if (year % 4 == 0 and year % 100 != 0) or (year % 400 == 0):\n",
    "    print(\"leap year\")\n",
    "    \n",
    "else:\n",
    "    print(\"not a leap year\")"
   ]
  },
  {
   "cell_type": "code",
   "execution_count": 22,
   "id": "fbd2597b",
   "metadata": {},
   "outputs": [],
   "source": [
    "def maximum(a, b, c):\n",
    "    if(a>b) and (a>c):\n",
    "        return a\n",
    "    elif(b>a) and (b>c):\n",
    "        return b\n",
    "    else:\n",
    "        return c"
   ]
  },
  {
   "cell_type": "code",
   "execution_count": 23,
   "id": "d5c25daf",
   "metadata": {},
   "outputs": [
    {
     "data": {
      "text/plain": [
       "77"
      ]
     },
     "execution_count": 23,
     "metadata": {},
     "output_type": "execute_result"
    }
   ],
   "source": [
    "maximum(2, 77, 9)"
   ]
  },
  {
   "cell_type": "markdown",
   "id": "aacd270b",
   "metadata": {},
   "source": [
    "# for loop\n",
    "1. Write a Python for loop that prints the numbers from 1 to 10, inclusive.\n",
    "\n",
    "2. Create a Python program that calculates the sum of all the elements in a given list `numbers` using a for loop.\n",
    "\n",
    "3. Write a Python for loop that iterates over a string `message` and prints each character on a new line.\n",
    "\n",
    "4. Create a Python program that generates a multiplication table for a given number `n`. The table should display the first 10 multiples of `n`.\n",
    "\n",
    "5. Write a Python program that takes a list of words as input and uses a for loop to count the number of vowels (a, e, i, o, u) in each word. Print the word along with the vowel count for each word.\n",
    "\n"
   ]
  },
  {
   "cell_type": "code",
   "execution_count": 6,
   "id": "1dee2667",
   "metadata": {},
   "outputs": [
    {
     "name": "stdout",
     "output_type": "stream",
     "text": [
      "enter the year 1994\n",
      "not leap year\n"
     ]
    }
   ],
   "source": [
    "year = int(input(\"enter the year \"))\n",
    "if (year%4==0 and year%100!=0) or (year%400==0 and year%100!=0):\n",
    "    print(\"leap year \")\n",
    "else:\n",
    "    print(\"not leap year\")"
   ]
  },
  {
   "cell_type": "code",
   "execution_count": 1,
   "id": "28f2db29",
   "metadata": {},
   "outputs": [],
   "source": [
    "def ola():\n",
    "    year = int(input(\"enter the year \"))\n",
    "    if (year%4==0 and year%100!=0) or (year%400==0 and year%100!=0):\n",
    "        print(\"leap year \")\n",
    "    else:\n",
    "        print(\"not leap year\")"
   ]
  },
  {
   "cell_type": "code",
   "execution_count": null,
   "id": "6826cc73",
   "metadata": {},
   "outputs": [],
   "source": []
  },
  {
   "cell_type": "code",
   "execution_count": 2,
   "id": "0d526a44",
   "metadata": {},
   "outputs": [
    {
     "name": "stdout",
     "output_type": "stream",
     "text": [
      "enter the year 2020\n",
      "leap year \n"
     ]
    }
   ],
   "source": [
    "ola()"
   ]
  },
  {
   "cell_type": "code",
   "execution_count": 1,
   "id": "a06cbf4f",
   "metadata": {},
   "outputs": [
    {
     "data": {
      "text/plain": [
       "range(1, 11)"
      ]
     },
     "execution_count": 1,
     "metadata": {},
     "output_type": "execute_result"
    }
   ],
   "source": [
    "hrange(1, 11)\n"
   ]
  },
  {
   "cell_type": "code",
   "execution_count": null,
   "id": "310c8c71",
   "metadata": {},
   "outputs": [],
   "source": []
  },
  {
   "cell_type": "code",
   "execution_count": 2,
   "id": "0b11f51e",
   "metadata": {},
   "outputs": [
    {
     "name": "stdout",
     "output_type": "stream",
     "text": [
      "1\n",
      "2\n",
      "3\n",
      "4\n",
      "5\n",
      "6\n",
      "7\n",
      "8\n",
      "9\n",
      "10\n"
     ]
    }
   ],
   "source": [
    "range1 = range(1, 11)\n",
    "for i in range1:\n",
    "    print(i)"
   ]
  },
  {
   "cell_type": "code",
   "execution_count": 4,
   "id": "4b6ea4d2",
   "metadata": {},
   "outputs": [
    {
     "name": "stdout",
     "output_type": "stream",
     "text": [
      "25\n"
     ]
    }
   ],
   "source": [
    "list1 = [2, 8, 9, 4, 2]\n",
    "total = 0\n",
    "for i in list1:\n",
    "    total+=i\n",
    "print(total)"
   ]
  },
  {
   "cell_type": "code",
   "execution_count": 5,
   "id": "af112a6a",
   "metadata": {},
   "outputs": [],
   "source": [
    "def multiplication(n):\n",
    "    for i in range(1, 11):\n",
    "        print(f\"{n} x {i} = {n * i}\")"
   ]
  },
  {
   "cell_type": "code",
   "execution_count": 6,
   "id": "51019192",
   "metadata": {},
   "outputs": [
    {
     "name": "stdout",
     "output_type": "stream",
     "text": [
      "4 x 1 = 4\n",
      "4 x 2 = 8\n",
      "4 x 3 = 12\n",
      "4 x 4 = 16\n",
      "4 x 5 = 20\n",
      "4 x 6 = 24\n",
      "4 x 7 = 28\n",
      "4 x 8 = 32\n",
      "4 x 9 = 36\n",
      "4 x 10 = 40\n"
     ]
    }
   ],
   "source": [
    "multiplication(4)"
   ]
  },
  {
   "cell_type": "code",
   "execution_count": 9,
   "id": "6c18eb9f",
   "metadata": {},
   "outputs": [],
   "source": [
    "def vowel_count(word):\n",
    "    vowels = \"aeiouAEIOU\"\n",
    "    vowels_count = 0\n",
    "    for i in word:\n",
    "        if i in vowels:\n",
    "            vowels_count+=1\n",
    "    return vowels_count"
   ]
  },
  {
   "cell_type": "code",
   "execution_count": 10,
   "id": "8c3fb664",
   "metadata": {},
   "outputs": [
    {
     "name": "stdout",
     "output_type": "stream",
     "text": [
      "the count of vowel in olaitan is 4\n",
      "the count of vowel in Fatimah is 3\n",
      "the count of vowel in Abiola is 4\n"
     ]
    }
   ],
   "source": [
    "list1=[\"olaitan\", \"Fatimah\", \"Abiola\"]\n",
    "for i in list1:\n",
    "    print(f\"the count of vowel in {i} is {vowel_count(i)}\")"
   ]
  },
  {
   "cell_type": "markdown",
   "id": "e07f7d9a",
   "metadata": {},
   "source": [
    "# while loop\n",
    "1. Write a Python while loop that prints the numbers from 1 to 5, inclusive.\n",
    "\n",
    "2. Create a Python program that asks the user to enter a positive integer. Use a while loop to check if the input is a valid positive integer. Keep asking for input until a valid integer is entered.\n",
    "\n",
    "3. Write a Python while loop that calculates the sum of all the even numbers from 1 to 50.\n",
    "\n",
    "4. Create a Python program that simulates a simple guessing game. Generate a random number between 1 and 100, and then ask the user to guess the number. Provide hints like \"Too high\" or \"Too low\" until the user guesses the correct number. Use a while loop to keep the game running until the correct number is guessed.\n",
    "\n",
    "5. Write a Python program that takes a list of numbers as input and uses a while loop to find and print the largest number in the list. The program should keep asking the user for numbers until they enter \"done\" as a signal to stop entering numbers.\n",
    "\n"
   ]
  },
  {
   "cell_type": "code",
   "execution_count": null,
   "id": "842237fe",
   "metadata": {},
   "outputs": [],
   "source": []
  },
  {
   "cell_type": "code",
   "execution_count": 3,
   "id": "6236ed0d",
   "metadata": {},
   "outputs": [
    {
     "name": "stdout",
     "output_type": "stream",
     "text": [
      "enter the year 1992\n",
      "leap year \n"
     ]
    }
   ],
   "source": [
    "ola()"
   ]
  },
  {
   "cell_type": "code",
   "execution_count": null,
   "id": "1a0f8593",
   "metadata": {},
   "outputs": [],
   "source": []
  }
 ],
 "metadata": {
  "kernelspec": {
   "display_name": "Python 3 (ipykernel)",
   "language": "python",
   "name": "python3"
  },
  "language_info": {
   "codemirror_mode": {
    "name": "ipython",
    "version": 3
   },
   "file_extension": ".py",
   "mimetype": "text/x-python",
   "name": "python",
   "nbconvert_exporter": "python",
   "pygments_lexer": "ipython3",
   "version": "3.9.13"
  }
 },
 "nbformat": 4,
 "nbformat_minor": 5
}
